{
 "cells": [
  {
   "cell_type": "code",
   "execution_count": 1,
   "id": "a017f2d7",
   "metadata": {
    "execution": {
     "iopub.execute_input": "2024-05-12T20:53:27.505359Z",
     "iopub.status.busy": "2024-05-12T20:53:27.504980Z",
     "iopub.status.idle": "2024-05-12T20:53:34.011276Z",
     "shell.execute_reply": "2024-05-12T20:53:34.010450Z"
    },
    "papermill": {
     "duration": 6.518386,
     "end_time": "2024-05-12T20:53:34.013621",
     "exception": false,
     "start_time": "2024-05-12T20:53:27.495235",
     "status": "completed"
    },
    "tags": []
   },
   "outputs": [],
   "source": [
    "import torch\n",
    "import torchvision\n",
    "import torchvision.transforms as transforms\n",
    "import torch.nn as nn\n",
    "import torch.optim as optim\n",
    "from torch.utils.data import Subset\n",
    "import matplotlib.pyplot as plt\n",
    "from tqdm import tqdm\n",
    "import numpy as np"
   ]
  },
  {
   "cell_type": "code",
   "execution_count": 2,
   "id": "05dc662a",
   "metadata": {
    "execution": {
     "iopub.execute_input": "2024-05-12T20:53:34.031220Z",
     "iopub.status.busy": "2024-05-12T20:53:34.030646Z",
     "iopub.status.idle": "2024-05-12T20:53:47.479321Z",
     "shell.execute_reply": "2024-05-12T20:53:47.478104Z"
    },
    "papermill": {
     "duration": 13.460594,
     "end_time": "2024-05-12T20:53:47.482396",
     "exception": false,
     "start_time": "2024-05-12T20:53:34.021802",
     "status": "completed"
    },
    "tags": []
   },
   "outputs": [
    {
     "name": "stdout",
     "output_type": "stream",
     "text": [
      "Collecting torchsummary\r\n",
      "  Downloading torchsummary-1.5.1-py3-none-any.whl.metadata (296 bytes)\r\n",
      "Downloading torchsummary-1.5.1-py3-none-any.whl (2.8 kB)\r\n",
      "Installing collected packages: torchsummary\r\n",
      "Successfully installed torchsummary-1.5.1\r\n"
     ]
    }
   ],
   "source": [
    "!pip install torchsummary"
   ]
  },
  {
   "cell_type": "code",
   "execution_count": 3,
   "id": "39b7be43",
   "metadata": {
    "_cell_guid": "b1076dfc-b9ad-4769-8c92-a6c4dae69d19",
    "_uuid": "8f2839f25d086af736a60e9eeb907d3b93b6e0e5",
    "execution": {
     "iopub.execute_input": "2024-05-12T20:53:47.501373Z",
     "iopub.status.busy": "2024-05-12T20:53:47.500489Z",
     "iopub.status.idle": "2024-05-12T20:53:47.521813Z",
     "shell.execute_reply": "2024-05-12T20:53:47.520881Z"
    },
    "papermill": {
     "duration": 0.033154,
     "end_time": "2024-05-12T20:53:47.523844",
     "exception": false,
     "start_time": "2024-05-12T20:53:47.490690",
     "status": "completed"
    },
    "tags": []
   },
   "outputs": [],
   "source": [
    "class Discriminator(nn.Module):\n",
    "    def __init__(self):\n",
    "        super(Discriminator, self).__init__()\n",
    "        self.conv1 = nn.Conv2d(in_channels=1, out_channels=64, kernel_size=4, stride=2, padding=1)\n",
    "        self.leaky1 = nn.LeakyReLU()\n",
    "        self.dropout = nn.Dropout()\n",
    "        self.conv2 = nn.Conv2d(in_channels=64, out_channels=64, kernel_size=4, stride=2, padding=1)\n",
    "        self.batchnorm1 = nn.BatchNorm2d(64)\n",
    "        self.leaky2 = nn.LeakyReLU()\n",
    "        self.conv3 = nn.Conv2d(in_channels=64, out_channels=64, kernel_size=4, stride=2, padding=1)\n",
    "        self.batchnorm2 = nn.BatchNorm2d(64)\n",
    "        self.leaky3 = nn.LeakyReLU()\n",
    "        self.conv4 = nn.Conv2d(in_channels=64, out_channels=128, kernel_size=3, stride=1, padding=1)\n",
    "        self.batchnorm3 = nn.BatchNorm2d(128)\n",
    "        self.leaky4 = nn.LeakyReLU()\n",
    "        self.conv5 = nn.Conv2d(in_channels=128, out_channels=128, kernel_size=3, stride=1, padding=1)\n",
    "        self.batchnorm4 = nn.BatchNorm2d(128)\n",
    "        self.leaky5 = nn.LeakyReLU()\n",
    "        self.conv6 = nn.Conv2d(in_channels=128, out_channels=128, kernel_size=3, stride=1, padding=1)\n",
    "        self.leaky6 = nn.LeakyReLU()\n",
    "        self.avgpool = nn.AvgPool2d(2, stride=2)\n",
    "        self.fc = nn.Linear(4 * 4 * 128, 11)\n",
    "        self.softmax = nn.Softmax(dim=1)\n",
    "        \n",
    "    def forward(self, x):\n",
    "        x = self.conv1(x)\n",
    "        x = self.leaky1(x)\n",
    "        x = self.dropout(x)\n",
    "        x = self.conv2(x)\n",
    "        x = self.batchnorm1(x)\n",
    "        x = self.leaky2(x)\n",
    "        x = self.conv3(x)\n",
    "        x = self.batchnorm2(x)\n",
    "        x = self.leaky3(x)\n",
    "        x = self.conv4(x)\n",
    "        x = self.batchnorm3(x)\n",
    "        x = self.leaky4(x)\n",
    "        x = self.conv5(x)\n",
    "        x = self.batchnorm4(x)\n",
    "        x = self.leaky5(x)\n",
    "        x = self.conv6(x)\n",
    "        x = self.leaky6(x)\n",
    "        x = self.avgpool(x)\n",
    "        x = x.view(x.size(0), -1)  # Flatten the output\n",
    "        x = self.fc(x)\n",
    "        x = self.softmax(x)\n",
    "        return x\n",
    "\n",
    "class Generator(nn.Module):\n",
    "    def __init__(self):\n",
    "        super(Generator, self).__init__()\n",
    "        self.conv1 = nn.ConvTranspose2d(100, 256, kernel_size=4, stride=4, padding=0, bias=False)\n",
    "        self.batchnorm1 = nn.BatchNorm2d(256)\n",
    "        self.leaky1 = nn.LeakyReLU()\n",
    "        self.conv2 = nn.ConvTranspose2d(256, 128, kernel_size=4, stride=4, padding=0, bias=False)\n",
    "        self.batchnorm2 = nn.BatchNorm2d(128)\n",
    "        self.leaky2 = nn.LeakyReLU()\n",
    "        self.conv3 = nn.ConvTranspose2d(128, 64, kernel_size=4, stride=2, padding=1, bias=False)\n",
    "        self.batchnorm3 = nn.BatchNorm2d(64)\n",
    "        self.leaky3 = nn.LeakyReLU()\n",
    "        self.conv4 = nn.ConvTranspose2d(64, 1, kernel_size=4, stride=2, padding=1, bias=False)\n",
    "        self.tanh = nn.Tanh()\n",
    "\n",
    "    def forward(self, x):\n",
    "        x = self.conv1(x)\n",
    "        x = self.batchnorm1(x)\n",
    "        x = self.leaky1(x)\n",
    "        x = self.conv2(x)\n",
    "        x = self.batchnorm2(x)\n",
    "        x = self.leaky2(x)\n",
    "        x = self.conv3(x)\n",
    "        x = self.batchnorm3(x)\n",
    "        x = self.leaky3(x)\n",
    "        x = self.conv4(x)\n",
    "        x = self.tanh(x)\n",
    "        return x"
   ]
  },
  {
   "cell_type": "code",
   "execution_count": 4,
   "id": "e043a6ea",
   "metadata": {
    "execution": {
     "iopub.execute_input": "2024-05-12T20:53:47.542911Z",
     "iopub.status.busy": "2024-05-12T20:53:47.542105Z",
     "iopub.status.idle": "2024-05-12T20:53:51.730908Z",
     "shell.execute_reply": "2024-05-12T20:53:51.729618Z"
    },
    "papermill": {
     "duration": 4.20133,
     "end_time": "2024-05-12T20:53:51.733789",
     "exception": false,
     "start_time": "2024-05-12T20:53:47.532459",
     "status": "completed"
    },
    "tags": []
   },
   "outputs": [
    {
     "name": "stdout",
     "output_type": "stream",
     "text": [
      "Downloading http://yann.lecun.com/exdb/mnist/train-images-idx3-ubyte.gz\n",
      "Failed to download (trying next):\n",
      "HTTP Error 403: Forbidden\n",
      "\n",
      "Downloading https://ossci-datasets.s3.amazonaws.com/mnist/train-images-idx3-ubyte.gz\n",
      "Downloading https://ossci-datasets.s3.amazonaws.com/mnist/train-images-idx3-ubyte.gz to ./data/MNIST/raw/train-images-idx3-ubyte.gz\n"
     ]
    },
    {
     "name": "stderr",
     "output_type": "stream",
     "text": [
      "100%|██████████| 9912422/9912422 [00:00<00:00, 15962968.56it/s]\n"
     ]
    },
    {
     "name": "stdout",
     "output_type": "stream",
     "text": [
      "Extracting ./data/MNIST/raw/train-images-idx3-ubyte.gz to ./data/MNIST/raw\n",
      "\n",
      "Downloading http://yann.lecun.com/exdb/mnist/train-labels-idx1-ubyte.gz\n",
      "Failed to download (trying next):\n",
      "HTTP Error 403: Forbidden\n",
      "\n",
      "Downloading https://ossci-datasets.s3.amazonaws.com/mnist/train-labels-idx1-ubyte.gz\n",
      "Downloading https://ossci-datasets.s3.amazonaws.com/mnist/train-labels-idx1-ubyte.gz to ./data/MNIST/raw/train-labels-idx1-ubyte.gz\n"
     ]
    },
    {
     "name": "stderr",
     "output_type": "stream",
     "text": [
      "100%|██████████| 28881/28881 [00:00<00:00, 468938.38it/s]\n"
     ]
    },
    {
     "name": "stdout",
     "output_type": "stream",
     "text": [
      "Extracting ./data/MNIST/raw/train-labels-idx1-ubyte.gz to ./data/MNIST/raw\n",
      "\n",
      "Downloading http://yann.lecun.com/exdb/mnist/t10k-images-idx3-ubyte.gz\n",
      "Failed to download (trying next):\n",
      "HTTP Error 403: Forbidden\n",
      "\n",
      "Downloading https://ossci-datasets.s3.amazonaws.com/mnist/t10k-images-idx3-ubyte.gz\n",
      "Downloading https://ossci-datasets.s3.amazonaws.com/mnist/t10k-images-idx3-ubyte.gz to ./data/MNIST/raw/t10k-images-idx3-ubyte.gz\n"
     ]
    },
    {
     "name": "stderr",
     "output_type": "stream",
     "text": [
      "100%|██████████| 1648877/1648877 [00:00<00:00, 3763369.47it/s]\n"
     ]
    },
    {
     "name": "stdout",
     "output_type": "stream",
     "text": [
      "Extracting ./data/MNIST/raw/t10k-images-idx3-ubyte.gz to ./data/MNIST/raw\n",
      "\n",
      "Downloading http://yann.lecun.com/exdb/mnist/t10k-labels-idx1-ubyte.gz\n",
      "Failed to download (trying next):\n",
      "HTTP Error 403: Forbidden\n",
      "\n",
      "Downloading https://ossci-datasets.s3.amazonaws.com/mnist/t10k-labels-idx1-ubyte.gz\n",
      "Downloading https://ossci-datasets.s3.amazonaws.com/mnist/t10k-labels-idx1-ubyte.gz to ./data/MNIST/raw/t10k-labels-idx1-ubyte.gz\n"
     ]
    },
    {
     "name": "stderr",
     "output_type": "stream",
     "text": [
      "100%|██████████| 4542/4542 [00:00<00:00, 2491567.98it/s]"
     ]
    },
    {
     "name": "stdout",
     "output_type": "stream",
     "text": [
      "Extracting ./data/MNIST/raw/t10k-labels-idx1-ubyte.gz to ./data/MNIST/raw\n",
      "\n"
     ]
    },
    {
     "name": "stderr",
     "output_type": "stream",
     "text": [
      "\n"
     ]
    }
   ],
   "source": [
    "device = torch.device(\"cuda:0\" if torch.cuda.is_available() else \"cpu\")\n",
    "# Define transforms for the dataset\n",
    "transform = transforms.Compose([\n",
    "    transforms.ToTensor(),\n",
    "    transforms.Normalize((0.5,), (0.5,)),\n",
    "    transforms.Resize((64, 64), antialias=False)\n",
    "])\n",
    "trainset = torchvision.datasets.MNIST(root='./data', train=True, download=True, transform=transform)\n",
    "trainloader = torch.utils.data.DataLoader(trainset, batch_size=256, shuffle=True)\n",
    "\n",
    "testset = torchvision.datasets.MNIST(root='./data', train=False, download=True, transform=transform)\n",
    "testloader = torch.utils.data.DataLoader(testset, batch_size=128, shuffle=False, num_workers=2)"
   ]
  },
  {
   "cell_type": "code",
   "execution_count": 5,
   "id": "10f7ec9c",
   "metadata": {
    "execution": {
     "iopub.execute_input": "2024-05-12T20:53:51.758736Z",
     "iopub.status.busy": "2024-05-12T20:53:51.757875Z",
     "iopub.status.idle": "2024-05-12T20:53:51.767209Z",
     "shell.execute_reply": "2024-05-12T20:53:51.766286Z"
    },
    "papermill": {
     "duration": 0.024843,
     "end_time": "2024-05-12T20:53:51.769549",
     "exception": false,
     "start_time": "2024-05-12T20:53:51.744706",
     "status": "completed"
    },
    "tags": []
   },
   "outputs": [],
   "source": [
    "def plot_samples(samples):\n",
    "    fig = plt.figure(figsize=(20, 5))\n",
    "    for j in range(len(samples)):  \n",
    "        ax = fig.add_subplot(1, len(samples), j+1)\n",
    "        sample = samples[j][0].squeeze().cpu().detach().numpy()  \n",
    "        ax.imshow(sample, cmap='gray')\n",
    "        ax.axis('off')\n",
    "    plt.show()\n",
    "    \n",
    "def test_accuracy(discriminator, testloader, device):\n",
    "    correct = 0\n",
    "    total = 0\n",
    "    discriminator.eval()\n",
    "    with torch.no_grad():\n",
    "        for data in tqdm(testloader):\n",
    "            inputs, labels = data[0].to(device), data[1].to(device)  # Chuyển dữ liệu lên GPU\n",
    "            outputs = discriminator(inputs)\n",
    "            _, predicted = torch.max(outputs.data, 1)\n",
    "            total += labels.size(0)\n",
    "            correct += (predicted == labels).sum().item()\n",
    "\n",
    "    # Calculate test accuracy\n",
    "    test_accuracy = 100 * correct / total\n",
    "    return test_accuracy\n"
   ]
  },
  {
   "cell_type": "code",
   "execution_count": 6,
   "id": "49fef72a",
   "metadata": {
    "execution": {
     "iopub.execute_input": "2024-05-12T20:53:51.797270Z",
     "iopub.status.busy": "2024-05-12T20:53:51.796523Z",
     "iopub.status.idle": "2024-05-12T20:53:51.805814Z",
     "shell.execute_reply": "2024-05-12T20:53:51.803999Z"
    },
    "papermill": {
     "duration": 0.024467,
     "end_time": "2024-05-12T20:53:51.808163",
     "exception": false,
     "start_time": "2024-05-12T20:53:51.783696",
     "status": "completed"
    },
    "tags": []
   },
   "outputs": [],
   "source": [
    "def plot_losses(dLosses, gLosses):\n",
    "    plt.figure(figsize=(10, 8))\n",
    "    plt.plot(dLosses, label='Discriminitive loss')\n",
    "    plt.plot(gLosses, label='Generative loss')\n",
    "    plt.xlabel('Batch')\n",
    "    plt.ylabel('Loss')\n",
    "    plt.legend()\n",
    "    plt.show"
   ]
  },
  {
   "cell_type": "code",
   "execution_count": 9,
   "id": "755419b2",
   "metadata": {
    "execution": {
     "iopub.execute_input": "2024-05-12T20:53:51.898531Z",
     "iopub.status.busy": "2024-05-12T20:53:51.897889Z",
     "iopub.status.idle": "2024-05-12T20:53:51.902549Z",
     "shell.execute_reply": "2024-05-12T20:53:51.901705Z"
    },
    "papermill": {
     "duration": 0.018719,
     "end_time": "2024-05-12T20:53:51.904487",
     "exception": false,
     "start_time": "2024-05-12T20:53:51.885768",
     "status": "completed"
    },
    "tags": []
   },
   "outputs": [],
   "source": [
    "def save_model(path, model, epoch):\n",
    "    torch.save({\n",
    "        \"epoch\": epoch,\n",
    "        \"model_state_dict\": model.state_dict(),\n",
    "    },path)"
   ]
  },
  {
   "cell_type": "code",
   "execution_count": 10,
   "id": "1da9af5e",
   "metadata": {
    "execution": {
     "iopub.execute_input": "2024-05-12T20:53:51.928009Z",
     "iopub.status.busy": "2024-05-12T20:53:51.927202Z",
     "iopub.status.idle": "2024-05-12T20:53:51.931800Z",
     "shell.execute_reply": "2024-05-12T20:53:51.930886Z"
    },
    "papermill": {
     "duration": 0.018542,
     "end_time": "2024-05-12T20:53:51.933673",
     "exception": false,
     "start_time": "2024-05-12T20:53:51.915131",
     "status": "completed"
    },
    "tags": []
   },
   "outputs": [],
   "source": [
    "def load_model(path):\n",
    "    check_point = torch.load(path)\n",
    "    return check_point"
   ]
  },
  {
   "cell_type": "code",
   "execution_count": 11,
   "id": "a0545102",
   "metadata": {
    "execution": {
     "iopub.execute_input": "2024-05-12T20:53:51.956363Z",
     "iopub.status.busy": "2024-05-12T20:53:51.956064Z",
     "iopub.status.idle": "2024-05-12T20:53:51.960170Z",
     "shell.execute_reply": "2024-05-12T20:53:51.959393Z"
    },
    "papermill": {
     "duration": 0.017578,
     "end_time": "2024-05-12T20:53:51.962100",
     "exception": false,
     "start_time": "2024-05-12T20:53:51.944522",
     "status": "completed"
    },
    "tags": []
   },
   "outputs": [],
   "source": [
    "def ns_generator_loss(fake_output):\n",
    "    return -torch.mean(torch.log(fake_output))"
   ]
  },
  {
   "cell_type": "code",
   "execution_count": 12,
   "id": "432dc01b",
   "metadata": {
    "execution": {
     "iopub.execute_input": "2024-05-12T20:53:51.984068Z",
     "iopub.status.busy": "2024-05-12T20:53:51.983782Z",
     "iopub.status.idle": "2024-05-12T20:53:51.987770Z",
     "shell.execute_reply": "2024-05-12T20:53:51.987038Z"
    },
    "papermill": {
     "duration": 0.017115,
     "end_time": "2024-05-12T20:53:51.989597",
     "exception": false,
     "start_time": "2024-05-12T20:53:51.972482",
     "status": "completed"
    },
    "tags": []
   },
   "outputs": [],
   "source": [
    "def s_generator_loss(generated_output):\n",
    "    return torch.mean(1-torch.log(generated_output))"
   ]
  },
  {
   "cell_type": "code",
   "execution_count": 13,
   "id": "0d0919e0",
   "metadata": {
    "execution": {
     "iopub.execute_input": "2024-05-12T20:53:52.011869Z",
     "iopub.status.busy": "2024-05-12T20:53:52.011625Z",
     "iopub.status.idle": "2024-05-12T20:53:52.015919Z",
     "shell.execute_reply": "2024-05-12T20:53:52.015089Z"
    },
    "papermill": {
     "duration": 0.017327,
     "end_time": "2024-05-12T20:53:52.017773",
     "exception": false,
     "start_time": "2024-05-12T20:53:52.000446",
     "status": "completed"
    },
    "tags": []
   },
   "outputs": [],
   "source": [
    "criterion_ = nn.NLLLoss()\n",
    "def discriminator_loss(pred_labels, real_labels):   \n",
    "    log_probs = torch.log(pred_labels)\n",
    "    loss = criterion_(log_probs, real_labels)\n",
    "    return loss"
   ]
  },
  {
   "cell_type": "code",
   "execution_count": 15,
   "id": "7fa09892",
   "metadata": {
    "execution": {
     "iopub.execute_input": "2024-05-12T20:53:52.068017Z",
     "iopub.status.busy": "2024-05-12T20:53:52.067714Z",
     "iopub.status.idle": "2024-05-12T22:06:30.692414Z",
     "shell.execute_reply": "2024-05-12T22:06:30.691392Z"
    },
    "papermill": {
     "duration": 4358.638171,
     "end_time": "2024-05-12T22:06:30.694390",
     "exception": false,
     "start_time": "2024-05-12T20:53:52.056219",
     "status": "completed"
    },
    "tags": []
   },
   "outputs": [
    {
     "name": "stderr",
     "output_type": "stream",
     "text": [
      "Epoch 0: 100%|██████████| 235/235 [00:44<00:00,  5.23batch/s]\n"
     ]
    },
    {
     "name": "stdout",
     "output_type": "stream",
     "text": [
      "Epoch 0: Generator Loss: 9.269780066278246; Discriminator Loss: 0.7618301720318631\n"
     ]
    },
    {
     "name": "stderr",
     "output_type": "stream",
     "text": [
      "Epoch 1: 100%|██████████| 235/235 [00:43<00:00,  5.37batch/s]\n"
     ]
    },
    {
     "name": "stdout",
     "output_type": "stream",
     "text": [
      "Epoch 1: Generator Loss: 11.639779975271633; Discriminator Loss: 0.16132074057992196\n"
     ]
    },
    {
     "name": "stderr",
     "output_type": "stream",
     "text": [
      "Epoch 2: 100%|██████████| 235/235 [00:43<00:00,  5.38batch/s]\n"
     ]
    },
    {
     "name": "stdout",
     "output_type": "stream",
     "text": [
      "Epoch 2: Generator Loss: 11.138682870783358; Discriminator Loss: 0.14157309153905281\n"
     ]
    },
    {
     "name": "stderr",
     "output_type": "stream",
     "text": [
      "Epoch 3: 100%|██████████| 235/235 [00:43<00:00,  5.40batch/s]\n"
     ]
    },
    {
     "name": "stdout",
     "output_type": "stream",
     "text": [
      "Epoch 3: Generator Loss: 11.991875677027254; Discriminator Loss: 0.14201565160073787\n"
     ]
    },
    {
     "name": "stderr",
     "output_type": "stream",
     "text": [
      "Epoch 4: 100%|██████████| 235/235 [00:43<00:00,  5.38batch/s]\n"
     ]
    },
    {
     "name": "stdout",
     "output_type": "stream",
     "text": [
      "Epoch 4: Generator Loss: 12.009519299890242; Discriminator Loss: 0.14540618436777183\n"
     ]
    },
    {
     "name": "stderr",
     "output_type": "stream",
     "text": [
      "Epoch 5: 100%|██████████| 235/235 [00:43<00:00,  5.36batch/s]\n"
     ]
    },
    {
     "name": "stdout",
     "output_type": "stream",
     "text": [
      "Epoch 5: Generator Loss: 12.67711276274461; Discriminator Loss: 0.12806050213547343\n"
     ]
    },
    {
     "name": "stderr",
     "output_type": "stream",
     "text": [
      "Epoch 6: 100%|██████████| 235/235 [00:43<00:00,  5.38batch/s]\n"
     ]
    },
    {
     "name": "stdout",
     "output_type": "stream",
     "text": [
      "Epoch 6: Generator Loss: 13.238845870026157; Discriminator Loss: 0.17961219258797476\n"
     ]
    },
    {
     "name": "stderr",
     "output_type": "stream",
     "text": [
      "Epoch 7: 100%|██████████| 235/235 [00:43<00:00,  5.40batch/s]\n"
     ]
    },
    {
     "name": "stdout",
     "output_type": "stream",
     "text": [
      "Epoch 7: Generator Loss: 13.109916083833092; Discriminator Loss: 0.16476515292102456\n"
     ]
    },
    {
     "name": "stderr",
     "output_type": "stream",
     "text": [
      "Epoch 8: 100%|██████████| 235/235 [00:43<00:00,  5.41batch/s]\n"
     ]
    },
    {
     "name": "stdout",
     "output_type": "stream",
     "text": [
      "Epoch 8: Generator Loss: 13.234339697748167; Discriminator Loss: 0.2076403265580153\n"
     ]
    },
    {
     "name": "stderr",
     "output_type": "stream",
     "text": [
      "Epoch 9: 100%|██████████| 235/235 [00:43<00:00,  5.41batch/s]\n"
     ]
    },
    {
     "name": "stdout",
     "output_type": "stream",
     "text": [
      "Epoch 9: Generator Loss: 13.248933148180317; Discriminator Loss: 0.19349725429828352\n"
     ]
    },
    {
     "name": "stderr",
     "output_type": "stream",
     "text": [
      "Epoch 10: 100%|██████████| 235/235 [00:43<00:00,  5.40batch/s]\n"
     ]
    },
    {
     "name": "stdout",
     "output_type": "stream",
     "text": [
      "Epoch 10: Generator Loss: 13.557577813792433; Discriminator Loss: 0.25429745317779034\n"
     ]
    },
    {
     "name": "stderr",
     "output_type": "stream",
     "text": [
      "Epoch 11: 100%|██████████| 235/235 [00:43<00:00,  5.40batch/s]\n"
     ]
    },
    {
     "name": "stdout",
     "output_type": "stream",
     "text": [
      "Epoch 11: Generator Loss: 13.710306216508915; Discriminator Loss: 0.2102602534314506\n"
     ]
    },
    {
     "name": "stderr",
     "output_type": "stream",
     "text": [
      "Epoch 12: 100%|██████████| 235/235 [00:43<00:00,  5.36batch/s]\n"
     ]
    },
    {
     "name": "stdout",
     "output_type": "stream",
     "text": [
      "Epoch 12: Generator Loss: 13.892256011310806; Discriminator Loss: 0.3100569438284788\n"
     ]
    },
    {
     "name": "stderr",
     "output_type": "stream",
     "text": [
      "Epoch 13: 100%|██████████| 235/235 [00:43<00:00,  5.37batch/s]\n"
     ]
    },
    {
     "name": "stdout",
     "output_type": "stream",
     "text": [
      "Epoch 13: Generator Loss: 13.806515604002863; Discriminator Loss: 0.24480677195466483\n"
     ]
    },
    {
     "name": "stderr",
     "output_type": "stream",
     "text": [
      "Epoch 14: 100%|██████████| 235/235 [00:43<00:00,  5.41batch/s]\n"
     ]
    },
    {
     "name": "stdout",
     "output_type": "stream",
     "text": [
      "Epoch 14: Generator Loss: 13.905893578488602; Discriminator Loss: 0.3013163392041993\n"
     ]
    },
    {
     "name": "stderr",
     "output_type": "stream",
     "text": [
      "Epoch 15: 100%|██████████| 235/235 [00:43<00:00,  5.37batch/s]\n"
     ]
    },
    {
     "name": "stdout",
     "output_type": "stream",
     "text": [
      "Epoch 15: Generator Loss: 13.933172022175585; Discriminator Loss: 0.20109379215118212\n"
     ]
    },
    {
     "name": "stderr",
     "output_type": "stream",
     "text": [
      "Epoch 16: 100%|██████████| 235/235 [00:43<00:00,  5.41batch/s]\n"
     ]
    },
    {
     "name": "stdout",
     "output_type": "stream",
     "text": [
      "Epoch 16: Generator Loss: 13.96216611780672; Discriminator Loss: 0.32567813190130085\n"
     ]
    },
    {
     "name": "stderr",
     "output_type": "stream",
     "text": [
      "Epoch 17: 100%|██████████| 235/235 [00:43<00:00,  5.42batch/s]\n"
     ]
    },
    {
     "name": "stdout",
     "output_type": "stream",
     "text": [
      "Epoch 17: Generator Loss: 14.003059293469812; Discriminator Loss: 0.19693739801390558\n"
     ]
    },
    {
     "name": "stderr",
     "output_type": "stream",
     "text": [
      "Epoch 18: 100%|██████████| 235/235 [00:43<00:00,  5.41batch/s]\n"
     ]
    },
    {
     "name": "stdout",
     "output_type": "stream",
     "text": [
      "Epoch 18: Generator Loss: 14.03586093788473; Discriminator Loss: 0.2145002219093661\n"
     ]
    },
    {
     "name": "stderr",
     "output_type": "stream",
     "text": [
      "Epoch 19: 100%|██████████| 235/235 [00:43<00:00,  5.40batch/s]\n"
     ]
    },
    {
     "name": "stdout",
     "output_type": "stream",
     "text": [
      "Epoch 19: Generator Loss: 14.316899474869427; Discriminator Loss: 0.28257923423607123\n"
     ]
    },
    {
     "name": "stderr",
     "output_type": "stream",
     "text": [
      "Epoch 20: 100%|██████████| 235/235 [00:43<00:00,  5.41batch/s]\n"
     ]
    },
    {
     "name": "stdout",
     "output_type": "stream",
     "text": [
      "Epoch 20: Generator Loss: 14.369427778781988; Discriminator Loss: 0.19501320637253106\n"
     ]
    },
    {
     "name": "stderr",
     "output_type": "stream",
     "text": [
      "Epoch 21: 100%|██████████| 235/235 [00:43<00:00,  5.40batch/s]\n"
     ]
    },
    {
     "name": "stdout",
     "output_type": "stream",
     "text": [
      "Epoch 21: Generator Loss: 14.401221450577435; Discriminator Loss: 0.22887896556948495\n"
     ]
    },
    {
     "name": "stderr",
     "output_type": "stream",
     "text": [
      "Epoch 22: 100%|██████████| 235/235 [00:43<00:00,  5.44batch/s]\n"
     ]
    },
    {
     "name": "stdout",
     "output_type": "stream",
     "text": [
      "Epoch 22: Generator Loss: 14.589185030032427; Discriminator Loss: 0.17903227661537308\n"
     ]
    },
    {
     "name": "stderr",
     "output_type": "stream",
     "text": [
      "Epoch 23: 100%|██████████| 235/235 [00:43<00:00,  5.43batch/s]\n"
     ]
    },
    {
     "name": "stdout",
     "output_type": "stream",
     "text": [
      "Epoch 23: Generator Loss: 14.759624819470266; Discriminator Loss: 0.2440606130159691\n"
     ]
    },
    {
     "name": "stderr",
     "output_type": "stream",
     "text": [
      "Epoch 24: 100%|██████████| 235/235 [00:43<00:00,  5.43batch/s]\n"
     ]
    },
    {
     "name": "stdout",
     "output_type": "stream",
     "text": [
      "Epoch 24: Generator Loss: 14.81967576344808; Discriminator Loss: 0.18670787472819161\n"
     ]
    },
    {
     "name": "stderr",
     "output_type": "stream",
     "text": [
      "Epoch 25: 100%|██████████| 235/235 [00:43<00:00,  5.42batch/s]\n"
     ]
    },
    {
     "name": "stdout",
     "output_type": "stream",
     "text": [
      "Epoch 25: Generator Loss: 14.66144715415107; Discriminator Loss: 0.23888329507257694\n"
     ]
    },
    {
     "name": "stderr",
     "output_type": "stream",
     "text": [
      "Epoch 26: 100%|██████████| 235/235 [00:43<00:00,  5.41batch/s]\n"
     ]
    },
    {
     "name": "stdout",
     "output_type": "stream",
     "text": [
      "Epoch 26: Generator Loss: 14.793123628339197; Discriminator Loss: 0.21812568246745145\n"
     ]
    },
    {
     "name": "stderr",
     "output_type": "stream",
     "text": [
      "Epoch 27: 100%|██████████| 235/235 [00:43<00:00,  5.38batch/s]\n"
     ]
    },
    {
     "name": "stdout",
     "output_type": "stream",
     "text": [
      "Epoch 27: Generator Loss: 14.969512108044746; Discriminator Loss: 0.18800151229509685\n"
     ]
    },
    {
     "name": "stderr",
     "output_type": "stream",
     "text": [
      "Epoch 28: 100%|██████████| 235/235 [00:43<00:00,  5.40batch/s]\n"
     ]
    },
    {
     "name": "stdout",
     "output_type": "stream",
     "text": [
      "Epoch 28: Generator Loss: 15.065008656591433; Discriminator Loss: 0.25855609317684275\n"
     ]
    },
    {
     "name": "stderr",
     "output_type": "stream",
     "text": [
      "Epoch 29: 100%|██████████| 235/235 [00:43<00:00,  5.37batch/s]\n"
     ]
    },
    {
     "name": "stdout",
     "output_type": "stream",
     "text": [
      "Epoch 29: Generator Loss: 15.193138318184095; Discriminator Loss: 0.06888901655617942\n"
     ]
    },
    {
     "name": "stderr",
     "output_type": "stream",
     "text": [
      "Epoch 30: 100%|██████████| 235/235 [00:43<00:00,  5.35batch/s]\n"
     ]
    },
    {
     "name": "stdout",
     "output_type": "stream",
     "text": [
      "Epoch 30: Generator Loss: 15.370892769251114; Discriminator Loss: 0.11031639426309839\n"
     ]
    },
    {
     "name": "stderr",
     "output_type": "stream",
     "text": [
      "Epoch 31: 100%|██████████| 235/235 [00:44<00:00,  5.33batch/s]\n"
     ]
    },
    {
     "name": "stdout",
     "output_type": "stream",
     "text": [
      "Epoch 31: Generator Loss: 15.863812540331457; Discriminator Loss: 0.21635847547465664\n"
     ]
    },
    {
     "name": "stderr",
     "output_type": "stream",
     "text": [
      "Epoch 32: 100%|██████████| 235/235 [00:43<00:00,  5.34batch/s]\n"
     ]
    },
    {
     "name": "stdout",
     "output_type": "stream",
     "text": [
      "Epoch 32: Generator Loss: 15.22667337890364; Discriminator Loss: 0.20196815956638664\n"
     ]
    },
    {
     "name": "stderr",
     "output_type": "stream",
     "text": [
      "Epoch 33: 100%|██████████| 235/235 [00:44<00:00,  5.34batch/s]\n"
     ]
    },
    {
     "name": "stdout",
     "output_type": "stream",
     "text": [
      "Epoch 33: Generator Loss: 15.487746882642437; Discriminator Loss: 0.14879692858483037\n"
     ]
    },
    {
     "name": "stderr",
     "output_type": "stream",
     "text": [
      "Epoch 34: 100%|██████████| 235/235 [00:43<00:00,  5.37batch/s]\n"
     ]
    },
    {
     "name": "stdout",
     "output_type": "stream",
     "text": [
      "Epoch 34: Generator Loss: 15.460933016915607; Discriminator Loss: 0.20998958526497596\n"
     ]
    },
    {
     "name": "stderr",
     "output_type": "stream",
     "text": [
      "Epoch 35: 100%|██████████| 235/235 [00:43<00:00,  5.44batch/s]\n"
     ]
    },
    {
     "name": "stdout",
     "output_type": "stream",
     "text": [
      "Epoch 35: Generator Loss: 15.784931724906986; Discriminator Loss: 0.06837077042820235\n"
     ]
    },
    {
     "name": "stderr",
     "output_type": "stream",
     "text": [
      "Epoch 36: 100%|██████████| 235/235 [00:43<00:00,  5.41batch/s]\n"
     ]
    },
    {
     "name": "stdout",
     "output_type": "stream",
     "text": [
      "Epoch 36: Generator Loss: 15.833845647991213; Discriminator Loss: 0.1864185871747442\n"
     ]
    },
    {
     "name": "stderr",
     "output_type": "stream",
     "text": [
      "Epoch 37: 100%|██████████| 235/235 [00:43<00:00,  5.41batch/s]\n"
     ]
    },
    {
     "name": "stdout",
     "output_type": "stream",
     "text": [
      "Epoch 37: Generator Loss: 15.705567967178474; Discriminator Loss: 0.09162661720178703\n"
     ]
    },
    {
     "name": "stderr",
     "output_type": "stream",
     "text": [
      "Epoch 38: 100%|██████████| 235/235 [00:44<00:00,  5.34batch/s]\n"
     ]
    },
    {
     "name": "stdout",
     "output_type": "stream",
     "text": [
      "Epoch 38: Generator Loss: 15.798702358180641; Discriminator Loss: 0.17787898579437253\n"
     ]
    },
    {
     "name": "stderr",
     "output_type": "stream",
     "text": [
      "Epoch 39: 100%|██████████| 235/235 [00:43<00:00,  5.36batch/s]\n"
     ]
    },
    {
     "name": "stdout",
     "output_type": "stream",
     "text": [
      "Epoch 39: Generator Loss: 16.318299134572346; Discriminator Loss: 0.04408547138938537\n"
     ]
    },
    {
     "name": "stderr",
     "output_type": "stream",
     "text": [
      "Epoch 40: 100%|██████████| 235/235 [00:43<00:00,  5.40batch/s]\n"
     ]
    },
    {
     "name": "stdout",
     "output_type": "stream",
     "text": [
      "Epoch 40: Generator Loss: 16.36349537841275; Discriminator Loss: 0.18023894283657846\n"
     ]
    },
    {
     "name": "stderr",
     "output_type": "stream",
     "text": [
      "Epoch 41: 100%|██████████| 235/235 [00:43<00:00,  5.36batch/s]\n"
     ]
    },
    {
     "name": "stdout",
     "output_type": "stream",
     "text": [
      "Epoch 41: Generator Loss: 15.97005831482064; Discriminator Loss: 0.11503704733406313\n"
     ]
    },
    {
     "name": "stderr",
     "output_type": "stream",
     "text": [
      "Epoch 42: 100%|██████████| 235/235 [00:43<00:00,  5.41batch/s]\n"
     ]
    },
    {
     "name": "stdout",
     "output_type": "stream",
     "text": [
      "Epoch 42: Generator Loss: 16.477459349183956; Discriminator Loss: 0.05226606946900232\n"
     ]
    },
    {
     "name": "stderr",
     "output_type": "stream",
     "text": [
      "Epoch 43: 100%|██████████| 235/235 [00:43<00:00,  5.38batch/s]\n"
     ]
    },
    {
     "name": "stdout",
     "output_type": "stream",
     "text": [
      "Epoch 43: Generator Loss: 16.5043582427196; Discriminator Loss: 0.16413034993406928\n"
     ]
    },
    {
     "name": "stderr",
     "output_type": "stream",
     "text": [
      "Epoch 44: 100%|██████████| 235/235 [00:43<00:00,  5.40batch/s]\n"
     ]
    },
    {
     "name": "stdout",
     "output_type": "stream",
     "text": [
      "Epoch 44: Generator Loss: 16.534960657103447; Discriminator Loss: 0.05703749685572126\n"
     ]
    },
    {
     "name": "stderr",
     "output_type": "stream",
     "text": [
      "Epoch 45: 100%|██████████| 235/235 [00:43<00:00,  5.43batch/s]\n"
     ]
    },
    {
     "name": "stdout",
     "output_type": "stream",
     "text": [
      "Epoch 45: Generator Loss: 16.166746881273056; Discriminator Loss: 0.3559082735122906\n"
     ]
    },
    {
     "name": "stderr",
     "output_type": "stream",
     "text": [
      "Epoch 46: 100%|██████████| 235/235 [00:43<00:00,  5.43batch/s]\n"
     ]
    },
    {
     "name": "stdout",
     "output_type": "stream",
     "text": [
      "Epoch 46: Generator Loss: 16.05462555600028; Discriminator Loss: 0.11576196828331703\n"
     ]
    },
    {
     "name": "stderr",
     "output_type": "stream",
     "text": [
      "Epoch 47: 100%|██████████| 235/235 [00:43<00:00,  5.43batch/s]\n"
     ]
    },
    {
     "name": "stdout",
     "output_type": "stream",
     "text": [
      "Epoch 47: Generator Loss: 16.540815361544617; Discriminator Loss: 0.05273199996823429\n"
     ]
    },
    {
     "name": "stderr",
     "output_type": "stream",
     "text": [
      "Epoch 48: 100%|██████████| 235/235 [00:43<00:00,  5.40batch/s]\n"
     ]
    },
    {
     "name": "stdout",
     "output_type": "stream",
     "text": [
      "Epoch 48: Generator Loss: 16.41867333599645; Discriminator Loss: 0.24749686217938477\n"
     ]
    },
    {
     "name": "stderr",
     "output_type": "stream",
     "text": [
      "Epoch 49: 100%|██████████| 235/235 [00:43<00:00,  5.41batch/s]\n"
     ]
    },
    {
     "name": "stdout",
     "output_type": "stream",
     "text": [
      "Epoch 49: Generator Loss: 16.559678603441288; Discriminator Loss: 0.07878201191003124\n"
     ]
    },
    {
     "name": "stderr",
     "output_type": "stream",
     "text": [
      "Epoch 50: 100%|██████████| 235/235 [00:43<00:00,  5.43batch/s]\n"
     ]
    },
    {
     "name": "stdout",
     "output_type": "stream",
     "text": [
      "Epoch 50: Generator Loss: 16.423058566884098; Discriminator Loss: 0.1547090750720957\n"
     ]
    },
    {
     "name": "stderr",
     "output_type": "stream",
     "text": [
      "Epoch 51: 100%|██████████| 235/235 [00:43<00:00,  5.41batch/s]\n"
     ]
    },
    {
     "name": "stdout",
     "output_type": "stream",
     "text": [
      "Epoch 51: Generator Loss: 16.94472235084599; Discriminator Loss: 0.030815592013761148\n"
     ]
    },
    {
     "name": "stderr",
     "output_type": "stream",
     "text": [
      "Epoch 52: 100%|██████████| 235/235 [00:44<00:00,  5.28batch/s]\n"
     ]
    },
    {
     "name": "stdout",
     "output_type": "stream",
     "text": [
      "Epoch 52: Generator Loss: 17.559770388480946; Discriminator Loss: 0.030883118979887575\n"
     ]
    },
    {
     "name": "stderr",
     "output_type": "stream",
     "text": [
      "Epoch 53: 100%|██████████| 235/235 [00:44<00:00,  5.28batch/s]\n"
     ]
    },
    {
     "name": "stdout",
     "output_type": "stream",
     "text": [
      "Epoch 53: Generator Loss: 17.887254926893448; Discriminator Loss: 0.023134117540067587\n"
     ]
    },
    {
     "name": "stderr",
     "output_type": "stream",
     "text": [
      "Epoch 54: 100%|██████████| 235/235 [00:43<00:00,  5.36batch/s]\n"
     ]
    },
    {
     "name": "stdout",
     "output_type": "stream",
     "text": [
      "Epoch 54: Generator Loss: 17.404886196821163; Discriminator Loss: 0.13795384342591158\n"
     ]
    },
    {
     "name": "stderr",
     "output_type": "stream",
     "text": [
      "Epoch 55: 100%|██████████| 235/235 [00:43<00:00,  5.35batch/s]\n"
     ]
    },
    {
     "name": "stdout",
     "output_type": "stream",
     "text": [
      "Epoch 55: Generator Loss: 17.52152304364066; Discriminator Loss: 0.04469780203424649\n"
     ]
    },
    {
     "name": "stderr",
     "output_type": "stream",
     "text": [
      "Epoch 56: 100%|██████████| 235/235 [00:44<00:00,  5.32batch/s]\n"
     ]
    },
    {
     "name": "stdout",
     "output_type": "stream",
     "text": [
      "Epoch 56: Generator Loss: 16.230726991963184; Discriminator Loss: 0.523835314073576\n"
     ]
    },
    {
     "name": "stderr",
     "output_type": "stream",
     "text": [
      "Epoch 57: 100%|██████████| 235/235 [00:44<00:00,  5.34batch/s]\n"
     ]
    },
    {
     "name": "stdout",
     "output_type": "stream",
     "text": [
      "Epoch 57: Generator Loss: 15.878510764521412; Discriminator Loss: 0.064068857453063\n"
     ]
    },
    {
     "name": "stderr",
     "output_type": "stream",
     "text": [
      "Epoch 58: 100%|██████████| 235/235 [00:43<00:00,  5.35batch/s]\n"
     ]
    },
    {
     "name": "stdout",
     "output_type": "stream",
     "text": [
      "Epoch 58: Generator Loss: 16.828055557022747; Discriminator Loss: 0.056601282877799794\n"
     ]
    },
    {
     "name": "stderr",
     "output_type": "stream",
     "text": [
      "Epoch 59: 100%|██████████| 235/235 [00:45<00:00,  5.13batch/s]\n"
     ]
    },
    {
     "name": "stdout",
     "output_type": "stream",
     "text": [
      "Epoch 59: Generator Loss: 17.361117224408012; Discriminator Loss: 0.11579235599567302\n"
     ]
    },
    {
     "name": "stderr",
     "output_type": "stream",
     "text": [
      "Epoch 60: 100%|██████████| 235/235 [00:44<00:00,  5.23batch/s]\n"
     ]
    },
    {
     "name": "stdout",
     "output_type": "stream",
     "text": [
      "Epoch 60: Generator Loss: 16.827729754977756; Discriminator Loss: 0.07436885053498878\n"
     ]
    },
    {
     "name": "stderr",
     "output_type": "stream",
     "text": [
      "Epoch 61: 100%|██████████| 235/235 [00:45<00:00,  5.11batch/s]\n"
     ]
    },
    {
     "name": "stdout",
     "output_type": "stream",
     "text": [
      "Epoch 61: Generator Loss: 17.46340505893414; Discriminator Loss: 0.14760114095356858\n"
     ]
    },
    {
     "name": "stderr",
     "output_type": "stream",
     "text": [
      "Epoch 62: 100%|██████████| 235/235 [00:45<00:00,  5.11batch/s]\n"
     ]
    },
    {
     "name": "stdout",
     "output_type": "stream",
     "text": [
      "Epoch 62: Generator Loss: 17.572926602811894; Discriminator Loss: 0.026566270042338178\n"
     ]
    },
    {
     "name": "stderr",
     "output_type": "stream",
     "text": [
      "Epoch 63: 100%|██████████| 235/235 [00:45<00:00,  5.21batch/s]\n"
     ]
    },
    {
     "name": "stdout",
     "output_type": "stream",
     "text": [
      "Epoch 63: Generator Loss: 18.19851030039991; Discriminator Loss: 0.023305317735235788\n"
     ]
    },
    {
     "name": "stderr",
     "output_type": "stream",
     "text": [
      "Epoch 64: 100%|██████████| 235/235 [00:44<00:00,  5.24batch/s]\n"
     ]
    },
    {
     "name": "stdout",
     "output_type": "stream",
     "text": [
      "Epoch 64: Generator Loss: 18.159512972220398; Discriminator Loss: 0.045806044748482794\n"
     ]
    },
    {
     "name": "stderr",
     "output_type": "stream",
     "text": [
      "Epoch 65: 100%|██████████| 235/235 [00:44<00:00,  5.25batch/s]\n"
     ]
    },
    {
     "name": "stdout",
     "output_type": "stream",
     "text": [
      "Epoch 65: Generator Loss: 17.2937455421839; Discriminator Loss: 0.35566080011761725\n"
     ]
    },
    {
     "name": "stderr",
     "output_type": "stream",
     "text": [
      "Epoch 66: 100%|██████████| 235/235 [00:44<00:00,  5.27batch/s]\n"
     ]
    },
    {
     "name": "stdout",
     "output_type": "stream",
     "text": [
      "Epoch 66: Generator Loss: 16.638803836626884; Discriminator Loss: 0.15920974906438437\n"
     ]
    },
    {
     "name": "stderr",
     "output_type": "stream",
     "text": [
      "Epoch 67: 100%|██████████| 235/235 [00:44<00:00,  5.28batch/s]\n"
     ]
    },
    {
     "name": "stdout",
     "output_type": "stream",
     "text": [
      "Epoch 67: Generator Loss: 17.4675780076247; Discriminator Loss: 0.02610516596911873\n"
     ]
    },
    {
     "name": "stderr",
     "output_type": "stream",
     "text": [
      "Epoch 68: 100%|██████████| 235/235 [00:43<00:00,  5.38batch/s]\n"
     ]
    },
    {
     "name": "stdout",
     "output_type": "stream",
     "text": [
      "Epoch 68: Generator Loss: 17.84356030032166; Discriminator Loss: 0.03791634393776329\n"
     ]
    },
    {
     "name": "stderr",
     "output_type": "stream",
     "text": [
      "Epoch 69: 100%|██████████| 235/235 [00:43<00:00,  5.38batch/s]\n"
     ]
    },
    {
     "name": "stdout",
     "output_type": "stream",
     "text": [
      "Epoch 69: Generator Loss: 18.244184371752617; Discriminator Loss: 0.018224314245212283\n"
     ]
    },
    {
     "name": "stderr",
     "output_type": "stream",
     "text": [
      "Epoch 70: 100%|██████████| 235/235 [00:43<00:00,  5.41batch/s]\n"
     ]
    },
    {
     "name": "stdout",
     "output_type": "stream",
     "text": [
      "Epoch 70: Generator Loss: 18.813657100384052; Discriminator Loss: 0.020116644357251495\n"
     ]
    },
    {
     "name": "stderr",
     "output_type": "stream",
     "text": [
      "Epoch 71: 100%|██████████| 235/235 [00:43<00:00,  5.44batch/s]\n"
     ]
    },
    {
     "name": "stdout",
     "output_type": "stream",
     "text": [
      "Epoch 71: Generator Loss: 19.015810167687572; Discriminator Loss: 0.03520568594949432\n"
     ]
    },
    {
     "name": "stderr",
     "output_type": "stream",
     "text": [
      "Epoch 72: 100%|██████████| 235/235 [00:43<00:00,  5.43batch/s]\n"
     ]
    },
    {
     "name": "stdout",
     "output_type": "stream",
     "text": [
      "Epoch 72: Generator Loss: 19.521652824858315; Discriminator Loss: 0.016269707948797278\n"
     ]
    },
    {
     "name": "stderr",
     "output_type": "stream",
     "text": [
      "Epoch 73: 100%|██████████| 235/235 [00:43<00:00,  5.43batch/s]\n"
     ]
    },
    {
     "name": "stdout",
     "output_type": "stream",
     "text": [
      "Epoch 73: Generator Loss: 18.441639496729923; Discriminator Loss: 0.1751088767260727\n"
     ]
    },
    {
     "name": "stderr",
     "output_type": "stream",
     "text": [
      "Epoch 74: 100%|██████████| 235/235 [00:43<00:00,  5.44batch/s]\n"
     ]
    },
    {
     "name": "stdout",
     "output_type": "stream",
     "text": [
      "Epoch 74: Generator Loss: 18.225936824439938; Discriminator Loss: 0.18482110087966752\n"
     ]
    },
    {
     "name": "stderr",
     "output_type": "stream",
     "text": [
      "Epoch 75: 100%|██████████| 235/235 [00:42<00:00,  5.47batch/s]\n"
     ]
    },
    {
     "name": "stdout",
     "output_type": "stream",
     "text": [
      "Epoch 75: Generator Loss: 17.394320002987854; Discriminator Loss: 0.07997492643503043\n"
     ]
    },
    {
     "name": "stderr",
     "output_type": "stream",
     "text": [
      "Epoch 76: 100%|██████████| 235/235 [00:43<00:00,  5.42batch/s]\n"
     ]
    },
    {
     "name": "stdout",
     "output_type": "stream",
     "text": [
      "Epoch 76: Generator Loss: 18.287841927292; Discriminator Loss: 0.02347375777287361\n"
     ]
    },
    {
     "name": "stderr",
     "output_type": "stream",
     "text": [
      "Epoch 77: 100%|██████████| 235/235 [00:43<00:00,  5.45batch/s]\n"
     ]
    },
    {
     "name": "stdout",
     "output_type": "stream",
     "text": [
      "Epoch 77: Generator Loss: 18.695911607171734; Discriminator Loss: 0.018063487007449835\n"
     ]
    },
    {
     "name": "stderr",
     "output_type": "stream",
     "text": [
      "Epoch 78: 100%|██████████| 235/235 [00:42<00:00,  5.51batch/s]\n"
     ]
    },
    {
     "name": "stdout",
     "output_type": "stream",
     "text": [
      "Epoch 78: Generator Loss: 17.908587757338825; Discriminator Loss: 0.21929932321206883\n"
     ]
    },
    {
     "name": "stderr",
     "output_type": "stream",
     "text": [
      "Epoch 79: 100%|██████████| 235/235 [00:43<00:00,  5.46batch/s]\n"
     ]
    },
    {
     "name": "stdout",
     "output_type": "stream",
     "text": [
      "Epoch 79: Generator Loss: 17.92011067398593; Discriminator Loss: 0.021410042560325027\n"
     ]
    },
    {
     "name": "stderr",
     "output_type": "stream",
     "text": [
      "Epoch 80: 100%|██████████| 235/235 [00:42<00:00,  5.47batch/s]\n"
     ]
    },
    {
     "name": "stdout",
     "output_type": "stream",
     "text": [
      "Epoch 80: Generator Loss: 17.764109089843227; Discriminator Loss: 0.14165251171932772\n"
     ]
    },
    {
     "name": "stderr",
     "output_type": "stream",
     "text": [
      "Epoch 81: 100%|██████████| 235/235 [00:42<00:00,  5.53batch/s]\n"
     ]
    },
    {
     "name": "stdout",
     "output_type": "stream",
     "text": [
      "Epoch 81: Generator Loss: 18.5086998654227; Discriminator Loss: 0.02147627535323875\n"
     ]
    },
    {
     "name": "stderr",
     "output_type": "stream",
     "text": [
      "Epoch 82: 100%|██████████| 235/235 [00:42<00:00,  5.52batch/s]\n"
     ]
    },
    {
     "name": "stdout",
     "output_type": "stream",
     "text": [
      "Epoch 82: Generator Loss: 17.971777166056835; Discriminator Loss: 0.24338781665542966\n"
     ]
    },
    {
     "name": "stderr",
     "output_type": "stream",
     "text": [
      "Epoch 83: 100%|██████████| 235/235 [00:42<00:00,  5.52batch/s]\n"
     ]
    },
    {
     "name": "stdout",
     "output_type": "stream",
     "text": [
      "Epoch 83: Generator Loss: 16.429440804016895; Discriminator Loss: 0.1613585606842246\n"
     ]
    },
    {
     "name": "stderr",
     "output_type": "stream",
     "text": [
      "Epoch 84: 100%|██████████| 235/235 [00:42<00:00,  5.53batch/s]\n"
     ]
    },
    {
     "name": "stdout",
     "output_type": "stream",
     "text": [
      "Epoch 84: Generator Loss: 16.37610883386726; Discriminator Loss: 0.23003864702848223\n"
     ]
    },
    {
     "name": "stderr",
     "output_type": "stream",
     "text": [
      "Epoch 85: 100%|██████████| 235/235 [00:42<00:00,  5.50batch/s]\n"
     ]
    },
    {
     "name": "stdout",
     "output_type": "stream",
     "text": [
      "Epoch 85: Generator Loss: 17.362224807087173; Discriminator Loss: 0.04779352839343632\n"
     ]
    },
    {
     "name": "stderr",
     "output_type": "stream",
     "text": [
      "Epoch 86: 100%|██████████| 235/235 [00:42<00:00,  5.50batch/s]\n"
     ]
    },
    {
     "name": "stdout",
     "output_type": "stream",
     "text": [
      "Epoch 86: Generator Loss: 18.271325380374225; Discriminator Loss: 0.016554140840044133\n"
     ]
    },
    {
     "name": "stderr",
     "output_type": "stream",
     "text": [
      "Epoch 87: 100%|██████████| 235/235 [00:42<00:00,  5.49batch/s]\n"
     ]
    },
    {
     "name": "stdout",
     "output_type": "stream",
     "text": [
      "Epoch 87: Generator Loss: 18.643512848096016; Discriminator Loss: 0.016163751318788108\n"
     ]
    },
    {
     "name": "stderr",
     "output_type": "stream",
     "text": [
      "Epoch 88: 100%|██████████| 235/235 [00:42<00:00,  5.47batch/s]\n"
     ]
    },
    {
     "name": "stdout",
     "output_type": "stream",
     "text": [
      "Epoch 88: Generator Loss: 19.21465266871656; Discriminator Loss: 0.017300988206218004\n"
     ]
    },
    {
     "name": "stderr",
     "output_type": "stream",
     "text": [
      "Epoch 89: 100%|██████████| 235/235 [00:42<00:00,  5.50batch/s]\n"
     ]
    },
    {
     "name": "stdout",
     "output_type": "stream",
     "text": [
      "Epoch 89: Generator Loss: 18.01397589333037; Discriminator Loss: 0.13738827905060452\n"
     ]
    },
    {
     "name": "stderr",
     "output_type": "stream",
     "text": [
      "Epoch 90: 100%|██████████| 235/235 [00:42<00:00,  5.50batch/s]\n"
     ]
    },
    {
     "name": "stdout",
     "output_type": "stream",
     "text": [
      "Epoch 90: Generator Loss: 18.57847216597989; Discriminator Loss: 0.0519397952593863\n"
     ]
    },
    {
     "name": "stderr",
     "output_type": "stream",
     "text": [
      "Epoch 91: 100%|██████████| 235/235 [00:42<00:00,  5.50batch/s]\n"
     ]
    },
    {
     "name": "stdout",
     "output_type": "stream",
     "text": [
      "Epoch 91: Generator Loss: 19.29429907676501; Discriminator Loss: 0.012958039812202383\n"
     ]
    },
    {
     "name": "stderr",
     "output_type": "stream",
     "text": [
      "Epoch 92: 100%|██████████| 235/235 [00:42<00:00,  5.52batch/s]\n"
     ]
    },
    {
     "name": "stdout",
     "output_type": "stream",
     "text": [
      "Epoch 92: Generator Loss: 18.297795104165363; Discriminator Loss: 0.17295315999211344\n"
     ]
    },
    {
     "name": "stderr",
     "output_type": "stream",
     "text": [
      "Epoch 93: 100%|██████████| 235/235 [00:43<00:00,  5.43batch/s]\n"
     ]
    },
    {
     "name": "stdout",
     "output_type": "stream",
     "text": [
      "Epoch 93: Generator Loss: 19.193725145780125; Discriminator Loss: 0.022254169094236966\n"
     ]
    },
    {
     "name": "stderr",
     "output_type": "stream",
     "text": [
      "Epoch 94: 100%|██████████| 235/235 [00:42<00:00,  5.49batch/s]\n"
     ]
    },
    {
     "name": "stdout",
     "output_type": "stream",
     "text": [
      "Epoch 94: Generator Loss: 19.77274604536529; Discriminator Loss: 0.01215475404378361\n"
     ]
    },
    {
     "name": "stderr",
     "output_type": "stream",
     "text": [
      "Epoch 95: 100%|██████████| 235/235 [00:43<00:00,  5.46batch/s]\n"
     ]
    },
    {
     "name": "stdout",
     "output_type": "stream",
     "text": [
      "Epoch 95: Generator Loss: 17.5853162382403; Discriminator Loss: 0.3008026802458633\n"
     ]
    },
    {
     "name": "stderr",
     "output_type": "stream",
     "text": [
      "Epoch 96: 100%|██████████| 235/235 [00:42<00:00,  5.48batch/s]\n"
     ]
    },
    {
     "name": "stdout",
     "output_type": "stream",
     "text": [
      "Epoch 96: Generator Loss: 17.549574566702557; Discriminator Loss: 0.025934201275181566\n"
     ]
    },
    {
     "name": "stderr",
     "output_type": "stream",
     "text": [
      "Epoch 97: 100%|██████████| 235/235 [00:42<00:00,  5.47batch/s]\n"
     ]
    },
    {
     "name": "stdout",
     "output_type": "stream",
     "text": [
      "Epoch 97: Generator Loss: 18.661286786071255; Discriminator Loss: 0.02136266799285435\n"
     ]
    },
    {
     "name": "stderr",
     "output_type": "stream",
     "text": [
      "Epoch 98: 100%|██████████| 235/235 [00:42<00:00,  5.49batch/s]\n"
     ]
    },
    {
     "name": "stdout",
     "output_type": "stream",
     "text": [
      "Epoch 98: Generator Loss: 19.60633408310067; Discriminator Loss: 0.012195252283062372\n"
     ]
    },
    {
     "name": "stderr",
     "output_type": "stream",
     "text": [
      "Epoch 99: 100%|██████████| 235/235 [00:42<00:00,  5.52batch/s]"
     ]
    },
    {
     "name": "stdout",
     "output_type": "stream",
     "text": [
      "Epoch 99: Generator Loss: 19.98333531567174; Discriminator Loss: 0.0802864158211642\n"
     ]
    },
    {
     "name": "stderr",
     "output_type": "stream",
     "text": [
      "\n"
     ]
    }
   ],
   "source": [
    "# Tạo các đối tượng Discriminator và Generator\n",
    "lr = 0.0002\n",
    "D = Discriminator().to(device)\n",
    "G = Generator().to(device)\n",
    "#criterion = nn.CrossEntropyLoss()\n",
    "# Định nghĩa optimizer cho Discriminator và Generator\n",
    "d_optimizer = optim.Adam(D.parameters(), lr=lr)\n",
    "g_optimizer = optim.Adam(G.parameters(), lr=lr)\n",
    "accuracy_list = []\n",
    "loss_list = []\n",
    "sample_of_generator = []\n",
    "num_epochs = 100\n",
    "# Huấn luyện mô hình\n",
    "d_losses = []\n",
    "g_losses = []\n",
    "for epoch in range(num_epochs):\n",
    "    D.train()\n",
    "    G.train()\n",
    "    epoch_d_loss = 0\n",
    "    epoch_g_loss = 0\n",
    "    with tqdm(trainloader, unit=\"batch\") as tepoch:\n",
    "        for i, data in enumerate(tepoch):\n",
    "            tepoch.set_description(f\"Epoch {epoch}\")\n",
    "            inputs, labels = data[0].to(device), data[1].to(device)  # Chuyển dữ liệu lên GPU\n",
    "            # Chuẩn bị dữ liệu\n",
    "            real_data = data[0].to(device)\n",
    "            fake_label = torch.full((data[0].size(0),), 10).to(device)\n",
    "            # Huấn luyện Discriminator với dữ liệu thật\n",
    "            d_optimizer.zero_grad()\n",
    "            d_output_real = D(real_data)\n",
    "            d_loss_real = discriminator_loss(d_output_real, labels)\n",
    "\n",
    "            # Huấn luyện Discriminator với dữ liệu giả\n",
    "            noise = torch.randn(data[0].size(0), 100, 1, 1).to(device)\n",
    "            fake_data = G(noise)\n",
    "            d_output_fake = D(fake_data.detach())\n",
    "            d_loss_fake = discriminator_loss(d_output_fake, fake_label)\n",
    "            \n",
    "            # Tổng hợp loss và cập nhật Discriminator\n",
    "            d_loss = (d_loss_real + d_loss_fake)\n",
    "            #d_loss = discriminator_loss(d_output_real, d_output_fake)/2\n",
    "            d_loss.backward()\n",
    "            d_optimizer.step()\n",
    "\n",
    "            # Huấn luyện Generator\n",
    "            g_optimizer.zero_grad()\n",
    "            noise = torch.randn(data[0].size(0), 100, 1, 1).to(device)\n",
    "            fake_data = G(noise)\n",
    "            #d_output = D(fake_data)\n",
    "            feature_fake = D(fake_data)\n",
    "            g_loss = ns_generator_loss(feature_fake)\n",
    "            \n",
    "            g_loss.backward()\n",
    "            g_optimizer.step()\n",
    "\n",
    "            epoch_d_loss+=d_loss.item()\n",
    "            epoch_g_loss+=g_loss.item()\n",
    "            g_losses.append(g_loss.item())\n",
    "            d_losses.append(d_loss.item())\n",
    "            \n",
    "        epoch_d_loss/=i\n",
    "        epoch_g_loss/=i\n",
    "        print(f\"Epoch {epoch}: Generator Loss: {epoch_g_loss}; Discriminator Loss: {epoch_d_loss}\")\n",
    "        \n",
    "    with open(\"gan_mnist.txt\",'a') as f:\n",
    "        f.writelines(f\"\\tEpoch {epoch}: Generator Loss: {epoch_g_loss}; Discriminator Loss: {epoch_d_loss} \\n\")\n",
    "\n"
   ]
  },
  {
   "cell_type": "code",
   "execution_count": 16,
   "id": "81e7f0d9",
   "metadata": {
    "execution": {
     "iopub.execute_input": "2024-05-12T22:06:38.339782Z",
     "iopub.status.busy": "2024-05-12T22:06:38.339079Z",
     "iopub.status.idle": "2024-05-12T22:06:38.923763Z",
     "shell.execute_reply": "2024-05-12T22:06:38.922815Z"
    },
    "papermill": {
     "duration": 4.397703,
     "end_time": "2024-05-12T22:06:38.926030",
     "exception": false,
     "start_time": "2024-05-12T22:06:34.528327",
     "status": "completed"
    },
    "tags": []
   },
   "outputs": [
    {
     "data": {
      "image/png": "[encoded data removed]",
      "text/plain": [
       "<Figure size 1000x800 with 1 Axes>"
      ]
     },
     "metadata": {},
     "output_type": "display_data"
    }
   ],
   "source": [
    "plot_losses(d_losses, g_losses)"
   ]
  },
  {
   "cell_type": "code",
   "execution_count": 27,
   "id": "d7306455",
   "metadata": {
    "execution": {
     "iopub.execute_input": "2024-05-12T22:08:04.055188Z",
     "iopub.status.busy": "2024-05-12T22:08:04.054810Z",
     "iopub.status.idle": "2024-05-12T22:08:04.085776Z",
     "shell.execute_reply": "2024-05-12T22:08:04.085103Z"
    },
    "papermill": {
     "duration": 3.842309,
     "end_time": "2024-05-12T22:08:04.087643",
     "exception": false,
     "start_time": "2024-05-12T22:08:00.245334",
     "status": "completed"
    },
    "tags": []
   },
   "outputs": [],
   "source": [
    "G.eval()\n",
    "generated_images = []\n",
    "with torch.no_grad():\n",
    "    for _ in range(2*10):\n",
    "        random_input = torch.randn(1, 100, 1, 1).to(device)\n",
    "        output_image = G(random_input)\n",
    "        generated_images.append(output_image)"
   ]
  },
  {
   "cell_type": "code",
   "execution_count": 28,
   "id": "d98f2ba6",
   "metadata": {
    "execution": {
     "iopub.execute_input": "2024-05-12T22:08:11.767849Z",
     "iopub.status.busy": "2024-05-12T22:08:11.767494Z",
     "iopub.status.idle": "2024-05-12T22:08:12.498140Z",
     "shell.execute_reply": "2024-05-12T22:08:12.497185Z"
    },
    "papermill": {
     "duration": 4.534753,
     "end_time": "2024-05-12T22:08:12.500180",
     "exception": false,
     "start_time": "2024-05-12T22:08:07.965427",
     "status": "completed"
    },
    "tags": []
   },
   "outputs": [
    {
     "data": {
      "image/png": "[encoded data removed]",
      "text/plain": [
       "<Figure size 1000x200 with 20 Axes>"
      ]
     },
     "metadata": {},
     "output_type": "display_data"
    }
   ],
   "source": [
    "plt.figure(figsize=(10, 2))\n",
    "for i in range(2*10):\n",
    "    plt.subplot(2, 10, i + 1)\n",
    "    img = generated_images[i][0].squeeze().cpu().detach().numpy() \n",
    "    plt.imshow(img, cmap='gray')\n",
    "    plt.axis('off')\n",
    "\n",
    "plt.tight_layout()\n",
    "plt.show()"
   ]
  },
  {
   "cell_type": "code",
   "execution_count": 29,
   "id": "c2196a46",
   "metadata": {
    "execution": {
     "iopub.execute_input": "2024-05-12T22:08:20.230876Z",
     "iopub.status.busy": "2024-05-12T22:08:20.230508Z",
     "iopub.status.idle": "2024-05-12T22:08:22.677252Z",
     "shell.execute_reply": "2024-05-12T22:08:22.676145Z"
    },
    "papermill": {
     "duration": 6.250486,
     "end_time": "2024-05-12T22:08:22.679485",
     "exception": false,
     "start_time": "2024-05-12T22:08:16.428999",
     "status": "completed"
    },
    "tags": []
   },
   "outputs": [
    {
     "name": "stderr",
     "output_type": "stream",
     "text": [
      "100%|██████████| 79/79 [00:02<00:00, 32.48it/s]\n"
     ]
    },
    {
     "data": {
      "text/plain": [
       "85.74"
      ]
     },
     "execution_count": 29,
     "metadata": {},
     "output_type": "execute_result"
    }
   ],
   "source": [
    "test_accuracy(D, testloader, device)"
   ]
  }
 ],
 "metadata": {
  "kaggle": {
   "accelerator": "gpu",
   "dataSources": [
    {
     "datasetId": 4958803,
     "sourceId": 8354669,
     "sourceType": "datasetVersion"
    }
   ],
   "dockerImageVersionId": 30665,
   "isGpuEnabled": true,
   "isInternetEnabled": true,
   "language": "python",
   "sourceType": "notebook"
  },
  "kernelspec": {
   "display_name": "Python 3",
   "language": "python",
   "name": "python3"
  },
  "language_info": {
   "codemirror_mode": {
    "name": "ipython",
    "version": 3
   },
   "file_extension": ".py",
   "mimetype": "text/x-python",
   "name": "python",
   "nbconvert_exporter": "python",
   "pygments_lexer": "ipython3",
   "version": "3.10.13"
  },
  "papermill": {
   "default_parameters": {},
   "duration": 4526.757833,
   "end_time": "2024-05-12T22:08:51.384127",
   "environment_variables": {},
   "exception": null,
   "input_path": "__notebook__.ipynb",
   "output_path": "__notebook__.ipynb",
   "parameters": {},
   "start_time": "2024-05-12T20:53:24.626294",
   "version": "2.5.0"
  }
 },
 "nbformat": 4,
 "nbformat_minor": 5
}
